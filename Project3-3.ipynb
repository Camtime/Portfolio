{
 "cells": [
  {
   "cell_type": "markdown",
   "metadata": {},
   "source": [
    "## Project 3 - 100 points\n",
    "\n",
    "Please complete this Python notebook and upload it to the Project 3 Moodle assignment space.\n",
    "This project is meant to familiarize you with basic data structures and data manipulation in Python.\n"
   ]
  },
  {
   "cell_type": "code",
   "execution_count": 421,
   "metadata": {},
   "outputs": [
    {
     "data": {
      "text/plain": [
       "['__add__',\n",
       " '__class__',\n",
       " '__contains__',\n",
       " '__delattr__',\n",
       " '__dir__',\n",
       " '__doc__',\n",
       " '__eq__',\n",
       " '__format__',\n",
       " '__ge__',\n",
       " '__getattribute__',\n",
       " '__getitem__',\n",
       " '__getnewargs__',\n",
       " '__getstate__',\n",
       " '__gt__',\n",
       " '__hash__',\n",
       " '__init__',\n",
       " '__init_subclass__',\n",
       " '__iter__',\n",
       " '__le__',\n",
       " '__len__',\n",
       " '__lt__',\n",
       " '__mod__',\n",
       " '__mul__',\n",
       " '__ne__',\n",
       " '__new__',\n",
       " '__reduce__',\n",
       " '__reduce_ex__',\n",
       " '__repr__',\n",
       " '__rmod__',\n",
       " '__rmul__',\n",
       " '__setattr__',\n",
       " '__sizeof__',\n",
       " '__str__',\n",
       " '__subclasshook__',\n",
       " 'capitalize',\n",
       " 'casefold',\n",
       " 'center',\n",
       " 'count',\n",
       " 'encode',\n",
       " 'endswith',\n",
       " 'expandtabs',\n",
       " 'find',\n",
       " 'format',\n",
       " 'format_map',\n",
       " 'index',\n",
       " 'isalnum',\n",
       " 'isalpha',\n",
       " 'isascii',\n",
       " 'isdecimal',\n",
       " 'isdigit',\n",
       " 'isidentifier',\n",
       " 'islower',\n",
       " 'isnumeric',\n",
       " 'isprintable',\n",
       " 'isspace',\n",
       " 'istitle',\n",
       " 'isupper',\n",
       " 'join',\n",
       " 'ljust',\n",
       " 'lower',\n",
       " 'lstrip',\n",
       " 'maketrans',\n",
       " 'partition',\n",
       " 'removeprefix',\n",
       " 'removesuffix',\n",
       " 'replace',\n",
       " 'rfind',\n",
       " 'rindex',\n",
       " 'rjust',\n",
       " 'rpartition',\n",
       " 'rsplit',\n",
       " 'rstrip',\n",
       " 'split',\n",
       " 'splitlines',\n",
       " 'startswith',\n",
       " 'strip',\n",
       " 'swapcase',\n",
       " 'title',\n",
       " 'translate',\n",
       " 'upper',\n",
       " 'zfill']"
      ]
     },
     "execution_count": 421,
     "metadata": {},
     "output_type": "execute_result"
    }
   ],
   "source": [
    "dir(strobj)"
   ]
  },
  {
   "cell_type": "code",
   "execution_count": 39,
   "metadata": {},
   "outputs": [
    {
     "name": "stdout",
     "output_type": "stream",
     "text": [
      "substring: srwer\n"
     ]
    }
   ],
   "source": [
    "# 1 Extracting substrings. Write a SINGLE python statement to slice the below string and extract 'srwer' from it \n",
    "# When executed, this block should produce the output 'srwer'                                                   - 2 points\n",
    "\n",
    "strobj = 'strawberry'\n",
    "\n",
    "chars = strobj[0:10:2]\n",
    "print(f\"substring: {chars}\")"
   ]
  },
  {
   "cell_type": "code",
   "execution_count": 195,
   "metadata": {},
   "outputs": [
    {
     "name": "stdout",
     "output_type": "stream",
     "text": [
      "a\n",
      "e\n"
     ]
    }
   ],
   "source": [
    "# 2 Write a for loop to iterate through the string and to print all vowels within it  \n",
    "# When executed, this block should output all vowels in the string                                              - 3 points\n",
    "\n",
    "strobj = 'strawberry'\n",
    "\n",
    "for char in strobj:\n",
    "    if(char in 'aioueAIOUE'):\n",
    "        print(char)"
   ]
  },
  {
   "cell_type": "code",
   "execution_count": 111,
   "metadata": {},
   "outputs": [
    {
     "name": "stdout",
     "output_type": "stream",
     "text": [
      "String1String1String2String2\n"
     ]
    }
   ],
   "source": [
    "# 3 Write python statement/statements to duplicate both strings and to join them to produce String1String1String2String2\n",
    "# When executed, this block should produce the output 'String1String1String2String2'                            - 3 points\n",
    "\n",
    "str1 = 'String1'\n",
    "str2 = 'String2'\n",
    "\n",
    "Combine = str1 + str1 + str2 + str2\n",
    "print(Combine)"
   ]
  },
  {
   "cell_type": "code",
   "execution_count": 117,
   "metadata": {},
   "outputs": [
    {
     "name": "stdout",
     "output_type": "stream",
     "text": [
      "CONVERTCASE\n",
      "convertcase\n"
     ]
    }
   ],
   "source": [
    "# 4 Write python statements to covert the below string to all uppercase and all lowercase.\n",
    "# When executed, this block should produce the output CONVERTCASE  convertcase                                  - 3 points\n",
    "\n",
    "strobj = 'ConvertCase'\n",
    "\n",
    "print(strobj.upper())\n",
    "print(strobj.lower())"
   ]
  },
  {
   "cell_type": "code",
   "execution_count": 155,
   "metadata": {},
   "outputs": [
    {
     "name": "stdout",
     "output_type": "stream",
     "text": [
      "['bus', 'bike', 'bmw', 'toyota']\n"
     ]
    }
   ],
   "source": [
    "# 5 Write a python statement to change item at index 2 to 'bmw'                                                   \n",
    "# When executed, this block should produce the output ['bus', 'bike', 'bmw', 'toyota']                          - 3 points\n",
    "\n",
    "lst = ['bus', 'bike', 'honda', 'toyota']\n",
    "\n",
    "lst.remove(\"honda\")\n",
    "lst.insert(2, \"bmw\")\n",
    "print(lst)\n"
   ]
  },
  {
   "cell_type": "code",
   "execution_count": 157,
   "metadata": {},
   "outputs": [
    {
     "name": "stdout",
     "output_type": "stream",
     "text": [
      "['bus', 'bike', 'bmw', 'toyota']\n"
     ]
    }
   ],
   "source": [
    "# 6 Write a python statement to create a new list lst3 that is a result of joining two lists\n",
    "# When executed, this block should produce the output ['bus', 'bike', 'bmw', 'toyota']                          - 3 points\n",
    "\n",
    "lst1 = ['bus', 'bike']\n",
    "lst2 = ['bmw', 'toyota']\n",
    "\n",
    "lst3 = lst1 + lst2\n",
    "print(lst3)"
   ]
  },
  {
   "cell_type": "code",
   "execution_count": 177,
   "metadata": {},
   "outputs": [
    {
     "name": "stdout",
     "output_type": "stream",
     "text": [
      "True\n"
     ]
    }
   ],
   "source": [
    "# 7 Iterate through the list to check if 'apple' is present in the list\n",
    "# When executed, this block should produce the output True                                                      - 3 points \n",
    "\n",
    "lst = ['banana', 'peach', 'pear', 'apple']\n",
    "\n",
    "if 'apple' in lst:\n",
    "    print('True')"
   ]
  },
  {
   "cell_type": "code",
   "execution_count": 191,
   "metadata": {},
   "outputs": [
    {
     "name": "stdout",
     "output_type": "stream",
     "text": [
      "['banana', 'peach', 'pear', 'apple', 'mango']\n"
     ]
    }
   ],
   "source": [
    "# 8 Iterate through the list to check if 'mango' is present in the list. If not append it to the list.            - 3 points\n",
    "# When executed, this block should produce the output ['banana', 'peach', 'pear', 'apple', 'mango']\n",
    "\n",
    "\n",
    "lst = ['banana', 'peach', 'pear', 'apple']\n",
    "\n",
    "if 'mango' in lst:\n",
    "    print('mango is in the list')\n",
    "if not 'mango' in lst:\n",
    "    lst.append('mango')\n",
    "    print(lst)"
   ]
  },
  {
   "cell_type": "code",
   "execution_count": 193,
   "metadata": {},
   "outputs": [
    {
     "name": "stdout",
     "output_type": "stream",
     "text": [
      "['banana', 'peach', 'apple', 'mango']\n"
     ]
    }
   ],
   "source": [
    "# 9 Remove the item 'pear' from the below list.\n",
    "# When executed, this block should produce the output ['banana', 'peach', apple', 'mango']                      - 3 points\n",
    "\n",
    "lst = ['banana', 'peach', 'pear', 'apple', 'mango']\n",
    "\n",
    "lst.remove('pear')\n",
    "print(lst)"
   ]
  },
  {
   "cell_type": "code",
   "execution_count": 481,
   "metadata": {},
   "outputs": [
    {
     "name": "stdout",
     "output_type": "stream",
     "text": [
      "[35, 31, 13]\n"
     ]
    }
   ],
   "source": [
    "# 10 Iterate through the list to remove numbers that are divisible by 4 from the list\n",
    "# When executed, this block should produce the output [35, 31, 13]                                              - 3 points\n",
    "\n",
    "lst = [24, 35, 40, 31, 13]\n",
    "\n",
    "for item in lst:\n",
    "    if (item%4 == 0):\n",
    "        lst.remove(item)\n",
    "print(lst)"
   ]
  },
  {
   "cell_type": "code",
   "execution_count": 229,
   "metadata": {},
   "outputs": [
    {
     "name": "stdout",
     "output_type": "stream",
     "text": [
      "['banana', 'peach', 'apple', 'mango']\n"
     ]
    }
   ],
   "source": [
    "# 11 Write a python statement to convert the below tuple to a list\n",
    "# When executed, this block should produce the output ['banana', 'peach', 'apple', 'mango']                      - 3 points\n",
    "\n",
    "tup = ('banana', 'peach', 'apple', 'mango')\n",
    "\n",
    "newList = list(tup)\n",
    "print(newList)"
   ]
  },
  {
   "cell_type": "code",
   "execution_count": 231,
   "metadata": {},
   "outputs": [
    {
     "name": "stdout",
     "output_type": "stream",
     "text": [
      "('banana', 'peach', 'pear', 'apple')\n"
     ]
    }
   ],
   "source": [
    "# 12 Write a python statement to conver the below list to a tuple\n",
    "# When executed, this block should produce the output ('banana', 'peach', 'pear', 'apple')                      - 3 points\n",
    "\n",
    "lst = ['banana', 'peach', 'pear', 'apple']\n",
    "\n",
    "newTuple = tuple(lst)\n",
    "print(newTuple)"
   ]
  },
  {
   "cell_type": "code",
   "execution_count": 423,
   "metadata": {},
   "outputs": [
    {
     "data": {
      "text/plain": [
       "['__add__',\n",
       " '__class__',\n",
       " '__class_getitem__',\n",
       " '__contains__',\n",
       " '__delattr__',\n",
       " '__dir__',\n",
       " '__doc__',\n",
       " '__eq__',\n",
       " '__format__',\n",
       " '__ge__',\n",
       " '__getattribute__',\n",
       " '__getitem__',\n",
       " '__getnewargs__',\n",
       " '__getstate__',\n",
       " '__gt__',\n",
       " '__hash__',\n",
       " '__init__',\n",
       " '__init_subclass__',\n",
       " '__iter__',\n",
       " '__le__',\n",
       " '__len__',\n",
       " '__lt__',\n",
       " '__mul__',\n",
       " '__ne__',\n",
       " '__new__',\n",
       " '__reduce__',\n",
       " '__reduce_ex__',\n",
       " '__repr__',\n",
       " '__rmul__',\n",
       " '__setattr__',\n",
       " '__sizeof__',\n",
       " '__str__',\n",
       " '__subclasshook__',\n",
       " 'count',\n",
       " 'index']"
      ]
     },
     "execution_count": 423,
     "metadata": {},
     "output_type": "execute_result"
    }
   ],
   "source": [
    "dir(tup)"
   ]
  },
  {
   "cell_type": "code",
   "execution_count": 235,
   "metadata": {},
   "outputs": [
    {
     "name": "stdout",
     "output_type": "stream",
     "text": [
      "('banana', 'grape', 'pear', 'apple')\n"
     ]
    }
   ],
   "source": [
    "# 13 Write python statements to replace peach with grape in the below tuple. \n",
    "# When executed, this block should produce the output ('banana', 'grape', 'pear', 'apple')                      - 3 points\n",
    "# Hint: Tuples are immutable so think of converting the tuple to a different data structure,\n",
    "# make the changes and convert it back to a tuple\n",
    "\n",
    "tup = ('banana', 'peach', 'pear', 'apple')\n",
    "\n",
    "newList = list(tup)\n",
    "newList.remove(\"peach\")\n",
    "newList.insert(1, \"grape\")\n",
    "newTuple = tuple(newList)\n",
    "print(newTuple)"
   ]
  },
  {
   "cell_type": "code",
   "execution_count": 261,
   "metadata": {},
   "outputs": [
    {
     "data": {
      "text/plain": [
       "3"
      ]
     },
     "execution_count": 261,
     "metadata": {},
     "output_type": "execute_result"
    }
   ],
   "source": [
    "# 14 Find number of items in the tuple\n",
    "# When executed, this block should produce the output 3                                                          - 3 points\n",
    "\n",
    "tup = (5, 2, 8)\n",
    "\n",
    "len(tup)"
   ]
  },
  {
   "cell_type": "code",
   "execution_count": 479,
   "metadata": {},
   "outputs": [
    {
     "name": "stdout",
     "output_type": "stream",
     "text": [
      "[3, 5, 9]\n"
     ]
    }
   ],
   "source": [
    "# 15 Iterate through the tuple and every time you encounter an odd number, append it to a new list and print the list\n",
    "# When executed, this block should produce the output [3, 5, 9]                                                  - 4 points\n",
    "\n",
    "tup = (2, 3, 5, 8, 10, 9, 6)\n",
    "newLst = []\n",
    "\n",
    "for item in tup:\n",
    "    if not (item%2 == 0):\n",
    "        newLst.append(item)\n",
    "print(newLst)\n",
    "    "
   ]
  },
  {
   "cell_type": "code",
   "execution_count": 271,
   "metadata": {},
   "outputs": [
    {
     "data": {
      "text/plain": [
       "4"
      ]
     },
     "execution_count": 271,
     "metadata": {},
     "output_type": "execute_result"
    }
   ],
   "source": [
    "# 16 Write a python statement to find the number of items in the below dictionary\n",
    "# When executed, this block should produce the output 4                                                          - 3 points\n",
    "\n",
    "dict1 = {'car':'honda', 'color':'blue', 'mpg':32, 'type':'sedan'}\n",
    "\n",
    "len(dict1)"
   ]
  },
  {
   "cell_type": "code",
   "execution_count": 405,
   "metadata": {},
   "outputs": [
    {
     "name": "stdout",
     "output_type": "stream",
     "text": [
      "car honda\n",
      "color blue\n",
      "mpg 32\n",
      "type sedan\n"
     ]
    }
   ],
   "source": [
    "# 17 Write python statements to iterate through the dictionary to print keys and their corresponding values         - 3 points\n",
    "# Output of this block should be:\n",
    "# car honda\n",
    "# color blue\n",
    "# mpg 32\n",
    "# type sedan\n",
    "\n",
    "#This is how I did it the first time, but then I noticed the other way after.\n",
    "# dict1 = {'car':'honda', 'color':'blue', 'mpg':32, 'type':'sedan'}\n",
    "\n",
    "#for item in dict1:\n",
    "    #if dict1.get(item):\n",
    "        #print(item + \" \" + str(dict1.get(item)))\n",
    "\n",
    "for key, value in dict1.items():\n",
    "    print(key,value)"
   ]
  },
  {
   "cell_type": "code",
   "execution_count": 419,
   "metadata": {},
   "outputs": [
    {
     "data": {
      "text/plain": [
       "['__class__',\n",
       " '__class_getitem__',\n",
       " '__contains__',\n",
       " '__delattr__',\n",
       " '__delitem__',\n",
       " '__dir__',\n",
       " '__doc__',\n",
       " '__eq__',\n",
       " '__format__',\n",
       " '__ge__',\n",
       " '__getattribute__',\n",
       " '__getitem__',\n",
       " '__getstate__',\n",
       " '__gt__',\n",
       " '__hash__',\n",
       " '__init__',\n",
       " '__init_subclass__',\n",
       " '__ior__',\n",
       " '__iter__',\n",
       " '__le__',\n",
       " '__len__',\n",
       " '__lt__',\n",
       " '__ne__',\n",
       " '__new__',\n",
       " '__or__',\n",
       " '__reduce__',\n",
       " '__reduce_ex__',\n",
       " '__repr__',\n",
       " '__reversed__',\n",
       " '__ror__',\n",
       " '__setattr__',\n",
       " '__setitem__',\n",
       " '__sizeof__',\n",
       " '__str__',\n",
       " '__subclasshook__',\n",
       " 'clear',\n",
       " 'copy',\n",
       " 'fromkeys',\n",
       " 'get',\n",
       " 'items',\n",
       " 'keys',\n",
       " 'pop',\n",
       " 'popitem',\n",
       " 'setdefault',\n",
       " 'update',\n",
       " 'values']"
      ]
     },
     "execution_count": 419,
     "metadata": {},
     "output_type": "execute_result"
    }
   ],
   "source": [
    "dir(dict1)"
   ]
  },
  {
   "cell_type": "code",
   "execution_count": 621,
   "metadata": {},
   "outputs": [
    {
     "name": "stdout",
     "output_type": "stream",
     "text": [
      "{'car': 'bmw', 'color': 'blue', 'mpg': 32, 'type': 'sedan'}\n"
     ]
    }
   ],
   "source": [
    "# 18 Write python statements to replace the value of key car from honda to bmw and print the dictionary             - 3 points\n",
    "# Output of this code block should be {'car':'bmw', 'color':'blue', 'mpg':32, 'type':'sedan'}\n",
    "\n",
    "dict1 = {'car':'honda', 'color':'blue', 'mpg':32, 'type':'sedan'}\n",
    "\n",
    "dict1['car'] = 'bmw'\n",
    "print(dict1)"
   ]
  },
  {
   "cell_type": "code",
   "execution_count": 415,
   "metadata": {},
   "outputs": [
    {
     "name": "stdout",
     "output_type": "stream",
     "text": [
      "{'car': 'honda', 'color': 'blue', 'mpg': 32, 'type': 'sedan', 'price': '20k'}\n"
     ]
    }
   ],
   "source": [
    "# 19 Write a python statement to join two dictionaries\n",
    "# Output of this code block should be {'car':'honda', 'color':'blue', 'mpg':32, 'type':'sedan', 'price':'20k'}    - 3 points\n",
    "\n",
    "dict1 = {'car':'honda', 'color':'blue', 'mpg':32, 'type':'sedan'}\n",
    "dict2 = {'price':'20k'}\n",
    "\n",
    "dict1.update(dict2)\n",
    "print(dict1)"
   ]
  },
  {
   "cell_type": "code",
   "execution_count": 401,
   "metadata": {},
   "outputs": [
    {
     "data": {
      "text/plain": [
       "'blue'"
      ]
     },
     "execution_count": 401,
     "metadata": {},
     "output_type": "execute_result"
    }
   ],
   "source": [
    "# 20 Write a python statement to print value for the key 'color'                                                     - 3 points\n",
    "# Output of this block should be 'blue'\n",
    "\n",
    "dict1 = {'car':'honda', 'color':'blue', 'mpg':32, 'type':'sedan'}\n",
    "dict1.get('color')"
   ]
  },
  {
   "cell_type": "code",
   "execution_count": 489,
   "metadata": {},
   "outputs": [
    {
     "name": "stdout",
     "output_type": "stream",
     "text": [
      "[[4, 5, 8], [11, 13, 20]]\n"
     ]
    }
   ],
   "source": [
    "# 21 Iterate through the nested list to sort individual lists\n",
    "# Output of this block should be [[4, 5, 8], [11, 13, 20]]                                                         - 10 points\n",
    "\n",
    "lst = [[8, 4, 5], [20, 11, 13]]\n",
    "\n",
    "for outer_list in lst:\n",
    "    outer_list.sort()\n",
    "for inner_list in lst:\n",
    "    inner_list.sort()\n",
    "print(lst)"
   ]
  },
  {
   "cell_type": "code",
   "execution_count": 539,
   "metadata": {},
   "outputs": [
    {
     "name": "stdout",
     "output_type": "stream",
     "text": [
      "3\n",
      "5\n",
      "11\n",
      "13\n"
     ]
    }
   ],
   "source": [
    "# 22 Iterate through the nested list to print all odd numbers\n",
    "# Output of this block should be 3 5 11 13                                                                         - 10 points\n",
    "\n",
    "lst = [[3, 4, 5], [10, 11, 13]]\n",
    "\n",
    "for outer_list in lst:\n",
    "    for item in outer_list:\n",
    "        if not (item%2 == 0):\n",
    "            print(item)\n",
    "            "
   ]
  },
  {
   "cell_type": "code",
   "execution_count": 563,
   "metadata": {},
   "outputs": [
    {
     "name": "stdout",
     "output_type": "stream",
     "text": [
      "[23, 13, 65, 21, 10, 6, 45, 67, 98, 321, 6, 61, 16, 70, 559]\n"
     ]
    }
   ],
   "source": [
    "# 23 Given the list below, write code to add all the elements at odd indices and append the total to the end of the list\n",
    "# and print the list \n",
    "# Remember list index starts at 0\n",
    "# Output of this block should be [23, 13, 65, 21, 10, 6, 45, 67, 98, 321, 6, 61, 16, 70, 559]                      - 10 points\n",
    "\n",
    "lst = [23, 13, 65, 21, 10, 6, 45, 67, 98, 321, 6, 61, 16, 70]\n",
    "newList = lst[1] + lst[3] + lst[5] + lst[7] + lst[9] + lst[11] + lst[13]\n",
    "lst.append(newList)\n",
    "print(lst)"
   ]
  },
  {
   "cell_type": "code",
   "execution_count": 619,
   "metadata": {},
   "outputs": [
    {
     "name": "stdout",
     "output_type": "stream",
     "text": [
      "[[9, 4, 16], [121, 81, 400]]\n"
     ]
    }
   ],
   "source": [
    "# 24 Write python code to sqare each number of the nested list\n",
    "# Output of this block should be [[9,4,16], [121,81,400]]                                                           - 10 points\n",
    "\n",
    "lst = [[3,2,4], [11,9,20]]\n",
    "\n",
    "for i in range(len(lst)):\n",
    "    lst[i] = [num ** 2 for num in lst[i]]\n",
    "\n",
    "print (lst)"
   ]
  }
 ],
 "metadata": {
  "kernelspec": {
   "display_name": "Python 3 (ipykernel)",
   "language": "python",
   "name": "python3"
  },
  "language_info": {
   "codemirror_mode": {
    "name": "ipython",
    "version": 3
   },
   "file_extension": ".py",
   "mimetype": "text/x-python",
   "name": "python",
   "nbconvert_exporter": "python",
   "pygments_lexer": "ipython3",
   "version": "3.12.4"
  }
 },
 "nbformat": 4,
 "nbformat_minor": 4
}
